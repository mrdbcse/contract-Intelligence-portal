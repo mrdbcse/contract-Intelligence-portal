{
 "cells": [
  {
   "cell_type": "markdown",
   "id": "9d3c3079",
   "metadata": {},
   "source": [
    "# Amazon Nova"
   ]
  },
  {
   "cell_type": "code",
   "execution_count": 1,
   "id": "cf19c473",
   "metadata": {},
   "outputs": [],
   "source": [
    "import json\n",
    "\n",
    "import boto3\n",
    "\n",
    "session = boto3.Session(profile_name=\"gen-ai-ops\", region_name=\"us-east-1\")\n",
    "bedrock_client = session.client(service_name=\"bedrock\")\n",
    "bedrock_runtime_client = session.client(service_name=\"bedrock-runtime\")"
   ]
  },
  {
   "cell_type": "code",
   "execution_count": 2,
   "id": "2304ecaa",
   "metadata": {},
   "outputs": [],
   "source": [
    "PRO_MODEL_ID = \"amazon.nova-pro-v1:0\"  # TEXT & VISION\n",
    "LITE_MODEL_ID = \"amazon.nova-lite-v1:0\"  # TEXT & VISION\n",
    "MICRO_MODEL_ID = \"amazon.nova-micro-v1:0\"  # TEXT"
   ]
  },
  {
   "cell_type": "markdown",
   "id": "c2e3da12",
   "metadata": {},
   "source": [
    "#### Synchronous API Call"
   ]
  },
  {
   "cell_type": "code",
   "execution_count": 3,
   "id": "502d68b6",
   "metadata": {},
   "outputs": [
    {
     "name": "stdout",
     "output_type": "stream",
     "text": [
      "{'ResponseMetadata': {'RequestId': 'e9c3d84d-44d4-46db-910c-0dff3b4d79f8', 'HTTPStatusCode': 200, 'HTTPHeaders': {'date': 'Thu, 02 Oct 2025 14:08:09 GMT', 'content-type': 'application/json', 'content-length': '843', 'connection': 'keep-alive', 'x-amzn-requestid': 'e9c3d84d-44d4-46db-910c-0dff3b4d79f8', 'x-amzn-bedrock-invocation-latency': '824', 'x-amzn-bedrock-cache-write-input-token-count': '0', 'x-amzn-bedrock-cache-read-input-token-count': '0', 'x-amzn-bedrock-output-token-count': '136', 'x-amzn-bedrock-input-token-count': '26'}, 'RetryAttempts': 0}, 'contentType': 'application/json', 'body': <botocore.response.StreamingBody object at 0x0000021888812800>}\n",
      "e9c3d84d-44d4-46db-910c-0dff3b4d79f8\n",
      "{'output': {'message': {'content': [{'text': \"YouTube est une excellente plateforme pour apprendre le codage et la technologie dans le domaine de l'informatique. De nombreux créateurs de contenu proposent des tutoriels détaillés, des cours complets et des explications sur divers sujets tels que le développement web, la programmation, l'intelligence artificielle, la cybersécurité et bien plus encore. Les vidéos sont souvent accompagnées de ressources supplémentaires comme des liens vers des livres, des articles et des forums de discussion. Cela rend YouTube accessible et pratique pour les apprenants de tous niveaux, qu'ils soient débutants ou expérimentés.\"}], 'role': 'assistant'}}, 'stopReason': 'end_turn', 'usage': {'inputTokens': 26, 'outputTokens': 136, 'totalTokens': 162, 'cacheReadInputTokenCount': 0, 'cacheWriteInputTokenCount': 0}}\n",
      "\n",
      " YouTube est une excellente plateforme pour apprendre le codage et la technologie dans le domaine de l'informatique. De nombreux créateurs de contenu proposent des tutoriels détaillés, des cours complets et des explications sur divers sujets tels que le développement web, la programmation, l'intelligence artificielle, la cybersécurité et bien plus encore. Les vidéos sont souvent accompagnées de ressources supplémentaires comme des liens vers des livres, des articles et des forums de discussion. Cela rend YouTube accessible et pratique pour les apprenants de tous niveaux, qu'ils soient débutants ou expérimentés.\n"
     ]
    }
   ],
   "source": [
    "system_list = [{\"text\": \"You should respond all the messages in French.\"}]\n",
    "message_llist = [\n",
    "    {\n",
    "        \"role\": \"user\",\n",
    "        \"content\": [\n",
    "            {\n",
    "                \"text\": \"Youtube is a great platform to learn coding and technology in the field of computer science.\"\n",
    "            }\n",
    "        ],\n",
    "    }\n",
    "]\n",
    "\n",
    "config = {\"max_new_tokens\": 300, \"top_p\": 0.9, \"top_k\": 20}\n",
    "request = {\"messages\": message_llist, \"system\": system_list, \"inferenceConfig\": config}\n",
    "\n",
    "response = bedrock_runtime_client.invoke_model(\n",
    "    modelId=LITE_MODEL_ID, body=json.dumps(request)\n",
    ")\n",
    "print(response)\n",
    "\n",
    "request_id = response[\"ResponseMetadata\"][\"RequestId\"]\n",
    "print(request_id)\n",
    "\n",
    "body = json.loads(response[\"body\"].read())\n",
    "print(body)\n",
    "\n",
    "content_text = body[\"output\"][\"message\"][\"content\"][0][\"text\"]\n",
    "print(\"\\n\", content_text)"
   ]
  },
  {
   "cell_type": "markdown",
   "id": "7da2ed0e",
   "metadata": {},
   "source": [
    "#### Streaming API Call"
   ]
  },
  {
   "cell_type": "code",
   "execution_count": 4,
   "id": "c96b5546",
   "metadata": {},
   "outputs": [
    {
     "name": "stdout",
     "output_type": "stream",
     "text": [
      "Time to first token: 0:00:00.466708\n",
      "The sun had just begun its ascent over the horizon, casting a golden hue across the rugged landscape of Ladakh. As the bus wound its way through the narrow, winding roads, I felt a mix of excitement and anticipation. This was my first trip to Ladakh, the \"Land of High Passes,\" and I couldn't wait to immerse myself in its breathtaking beauty and rich culture.\n",
      "\n",
      "The first stop was the picturesque village of Alchi, nestled in the Leh district. The Alchi Monastery, with its ancient murals and stupas, stood as a testament to the region's spiritual heritage. I wandered through the narrow lanes, marveling at the traditional Ladakhi architecture, and was captivated by the warm smiles of the locals.\n",
      "\n",
      "Next, we journeyed to the stunning Pangong Tso Lake, a mesmerizing expanse of water that seemed to stretch endlessly. The lake's color changed with the light, from deep blue to vibrant orange, creating a surreal landscape. We spent the day boating on the lake, feeling a sense of tranquility wash over us as we floated on the calm waters.\n",
      "\n",
      "One of the highlights of the trip was the Nubra Valley, known for its double-humped Bactrian camels. I joined a local guide for a camel ride, traversing the sandy dunes and feeling a sense of freedom as I sat atop the gentle giants. The valley's vibrant culture was evident in the colorful prayer flags fluttering in the wind and the traditional Ladakhi homes dotting the landscape.\n",
      "\n",
      "As the sun began to set, we made our way to the Magnetic Hill, a peculiar phenomenon where the road seems to slope uphill, even though it is actually downhill. It was a playful and unexpected experience, leaving us in fits of laughter as we tried to navigate the deceptive terrain.\n",
      "\n",
      "The trip to Ladakh was a journey of discovery, both of the stunning landscapes and the warm, welcoming people. As I boarded the bus to return home, I knew that this was just the beginning of my adventures in this enchanting region. The memories of Ladakh would stay with me, a constant reminder of the beauty and wonder that the world has to offer.\n",
      "Total token count:  220\n"
     ]
    }
   ],
   "source": [
    "from datetime import datetime as dt\n",
    "\n",
    "system_list = [\n",
    "    {\n",
    "        \"text\": \"Act as a writing assistant. When the user provides you with a topic, write a short story about that topic\"\n",
    "    }\n",
    "]\n",
    "\n",
    "message_llist = [{\"role\": \"user\", \"content\": [{\"text\": \"A trip to Ladakh.\"}]}]\n",
    "\n",
    "config = {\"max_new_tokens\": 1000, \"top_p\": 0.9, \"top_k\": 20}\n",
    "\n",
    "request = {\"messages\": message_llist, \"system\": system_list, \"inferenceConfig\": config}\n",
    "\n",
    "start_time = dt.now()\n",
    "\n",
    "response = bedrock_runtime_client.invoke_model_with_response_stream(\n",
    "    modelId=LITE_MODEL_ID, body=json.dumps(request)\n",
    ")\n",
    "\n",
    "chunk_count = 0\n",
    "time_to_first_token = None\n",
    "\n",
    "stream = response.get(\"body\")\n",
    "if stream:\n",
    "    for event in stream:\n",
    "        chunk = event.get(\"chunk\")\n",
    "        if chunk:\n",
    "            chunk_json = json.loads(chunk.get(\"bytes\").decode())\n",
    "            content_block_delta = chunk_json.get(\"contentBlockDelta\")\n",
    "            if content_block_delta:\n",
    "                if time_to_first_token is None:\n",
    "                    time_to_first_token = dt.now() - start_time\n",
    "                    print(f\"Time to first token: {time_to_first_token}\")\n",
    "                chunk_count += 1\n",
    "                current_time = dt.now().strftime(\"%d-%m-%Y %H:%M:%S:%f\")\n",
    "                print(content_block_delta.get(\"delta\").get(\"text\"), end=\"\")\n",
    "    print(\"\\nTotal token count: \", chunk_count)\n",
    "else:\n",
    "    print(\"No response stream received.\")"
   ]
  },
  {
   "cell_type": "markdown",
   "id": "c54d66d4",
   "metadata": {},
   "source": [
    "#### Image Understanding"
   ]
  },
  {
   "cell_type": "code",
   "execution_count": 5,
   "id": "8f33bfca",
   "metadata": {},
   "outputs": [
    {
     "name": "stdout",
     "output_type": "stream",
     "text": [
      "1. **\"Winter's Embrace: The Amtrak Journey\"**\n",
      "2. **\"Snowbound Station: A Winter's Tale\"**\n",
      "3. **\"Amtrak's Path Through the Snow\"**\n"
     ]
    }
   ],
   "source": [
    "import base64\n",
    "\n",
    "\n",
    "with open(\"../images/train_snow.jpg\", \"rb\") as f:\n",
    "    snow_base64_string = base64.b64encode(f.read()).decode(\"utf-8\")\n",
    "\n",
    "system_list = [\n",
    "    {\n",
    "        \"text\": \"You are an expert artist. When the user provides you with an image, provide three potential art titles.\"\n",
    "    }\n",
    "]\n",
    "\n",
    "message_llist = [\n",
    "    {\n",
    "        \"role\": \"user\",\n",
    "        \"content\": [\n",
    "            {\"image\": {\"format\": \"jpg\", \"source\": {\"bytes\": snow_base64_string}}},\n",
    "            {\"text\": \"Provide art titles for this image.\"},\n",
    "        ],\n",
    "    }\n",
    "]\n",
    "\n",
    "config = {\"max_new_tokens\": 300, \"top_k\": 20, \"top_p\": 0.1}\n",
    "\n",
    "request = {\"messages\": message_llist, \"system\": system_list, \"inferenceConfig\": config}\n",
    "\n",
    "response = bedrock_runtime_client.invoke_model(\n",
    "    modelId=LITE_MODEL_ID, body=json.dumps(request)\n",
    ")\n",
    "response = json.loads(response[\"body\"].read())\n",
    "\n",
    "content_text = response[\"output\"][\"message\"][\"content\"][0][\"text\"]\n",
    "print(content_text)"
   ]
  },
  {
   "cell_type": "code",
   "execution_count": 6,
   "id": "cbeb7d6d",
   "metadata": {},
   "outputs": [
    {
     "name": "stdout",
     "output_type": "stream",
     "text": [
      "Both images depict landscapes, but they showcase different environments and settings. The first image features a snowy landscape with a train station and a train on the tracks, while the second image presents a desert landscape with a sunset and a unique rock formation. Despite the differences in scenery, both images share the common theme of capturing the beauty and diversity of nature.\n"
     ]
    }
   ],
   "source": [
    "with open(\"../images/desert.jpg\", \"rb\") as f:\n",
    "    desert_base64_string = base64.b64encode(f.read()).decode(\"utf-8\")\n",
    "\n",
    "message_llist = [\n",
    "    {\n",
    "        \"role\": \"user\",\n",
    "        \"content\": [\n",
    "            {\"image\": {\"format\": \"jpg\", \"source\": {\"bytes\": snow_base64_string}}},\n",
    "            {\"image\": {\"format\": \"jpg\", \"source\": {\"bytes\": desert_base64_string}}},\n",
    "            {\"text\": \"What do these two images have in common?\"},\n",
    "        ],\n",
    "    }\n",
    "]\n",
    "\n",
    "config = {\"max_new_tokens\": 300, \"top_p\": 0.1, \"top_k\": 20}\n",
    "request = {\"messages\": message_llist, \"inferenceConfig\": config}\n",
    "\n",
    "response = bedrock_runtime_client.invoke_model(\n",
    "    modelId=LITE_MODEL_ID, body=json.dumps(request)\n",
    ")\n",
    "\n",
    "response = json.loads(response[\"body\"].read())\n",
    "content_text = response[\"output\"][\"message\"][\"content\"][0][\"text\"]\n",
    "print(content_text)"
   ]
  }
 ],
 "metadata": {
  "kernelspec": {
   "display_name": "enterprise-ai",
   "language": "python",
   "name": "python3"
  },
  "language_info": {
   "codemirror_mode": {
    "name": "ipython",
    "version": 3
   },
   "file_extension": ".py",
   "mimetype": "text/x-python",
   "name": "python",
   "nbconvert_exporter": "python",
   "pygments_lexer": "ipython3",
   "version": "3.12.11"
  }
 },
 "nbformat": 4,
 "nbformat_minor": 5
}
