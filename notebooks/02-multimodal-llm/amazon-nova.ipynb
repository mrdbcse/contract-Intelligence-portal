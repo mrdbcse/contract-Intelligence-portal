{
 "cells": [
  {
   "cell_type": "markdown",
   "id": "9d3c3079",
   "metadata": {},
   "source": [
    "# Amazon Nova"
   ]
  },
  {
   "cell_type": "code",
   "execution_count": 2,
   "id": "cf19c473",
   "metadata": {},
   "outputs": [],
   "source": [
    "import json\n",
    "\n",
    "import boto3\n",
    "\n",
    "session = boto3.Session(profile_name=\"gen-ai-ops\", region_name=\"us-east-1\")\n",
    "bedrock_client = session.client(service_name=\"bedrock\")\n",
    "bedrock_runtime_client = session.client(service_name=\"bedrock-runtime\")"
   ]
  },
  {
   "cell_type": "code",
   "execution_count": 1,
   "id": "2304ecaa",
   "metadata": {},
   "outputs": [],
   "source": [
    "PRO_MODEL_ID = \"amazon.nova-pro-v1:0\"  # TEXT & VISION\n",
    "LITE_MODEL_ID = \"amazon.nova-lite-v1:0\"  # TEXT & VISION\n",
    "MICRO_MODEL_ID = \"amazon.nova-micro-v1:0\"  # TEXT"
   ]
  },
  {
   "cell_type": "markdown",
   "id": "c2e3da12",
   "metadata": {},
   "source": [
    "#### Synchronous API Call"
   ]
  },
  {
   "cell_type": "code",
   "execution_count": 10,
   "id": "502d68b6",
   "metadata": {},
   "outputs": [
    {
     "name": "stdout",
     "output_type": "stream",
     "text": [
      "{'ResponseMetadata': {'RequestId': '5e4a0385-511e-4f57-bc7a-0e8ecd761b72', 'HTTPStatusCode': 200, 'HTTPHeaders': {'date': 'Wed, 01 Oct 2025 14:34:57 GMT', 'content-type': 'application/json', 'content-length': '915', 'connection': 'keep-alive', 'x-amzn-requestid': '5e4a0385-511e-4f57-bc7a-0e8ecd761b72', 'x-amzn-bedrock-invocation-latency': '1104', 'x-amzn-bedrock-cache-write-input-token-count': '0', 'x-amzn-bedrock-cache-read-input-token-count': '0', 'x-amzn-bedrock-output-token-count': '147', 'x-amzn-bedrock-input-token-count': '26'}, 'RetryAttempts': 0}, 'contentType': 'application/json', 'body': <botocore.response.StreamingBody object at 0x000001BF343B5C00>}\n",
      "5e4a0385-511e-4f57-bc7a-0e8ecd761b72\n",
      "{'output': {'message': {'content': [{'text': \"YouTube est une excellente plateforme pour apprendre le codage et la technologie dans le domaine de l'informatique. De nombreux créateurs de contenu proposent des tutoriels détaillés, des cours complets et des explications sur divers sujets tels que le développement de logiciels, le design d'interfaces, la programmation web, et bien plus encore. Les vidéos sont souvent accompagnées de ressources supplémentaires comme des liens vers des articles, des forums de discussion et des projets pratiques pour consolider les connaissances acquises. De plus, la diversité des styles d'enseignement permet à chacun de trouver des explications qui correspondent à son mode d'apprentissage personnel.\"}], 'role': 'assistant'}}, 'stopReason': 'end_turn', 'usage': {'inputTokens': 26, 'outputTokens': 147, 'totalTokens': 173, 'cacheReadInputTokenCount': 0, 'cacheWriteInputTokenCount': 0}}\n",
      "\n",
      " YouTube est une excellente plateforme pour apprendre le codage et la technologie dans le domaine de l'informatique. De nombreux créateurs de contenu proposent des tutoriels détaillés, des cours complets et des explications sur divers sujets tels que le développement de logiciels, le design d'interfaces, la programmation web, et bien plus encore. Les vidéos sont souvent accompagnées de ressources supplémentaires comme des liens vers des articles, des forums de discussion et des projets pratiques pour consolider les connaissances acquises. De plus, la diversité des styles d'enseignement permet à chacun de trouver des explications qui correspondent à son mode d'apprentissage personnel.\n"
     ]
    }
   ],
   "source": [
    "system_list = [{\"text\": \"You should respond all the messages in French.\"}]\n",
    "message_llist = [\n",
    "    {\n",
    "        \"role\": \"user\",\n",
    "        \"content\": [\n",
    "            {\n",
    "                \"text\": \"Youtube is a great platform to learn coding and technology in the field of computer science.\"\n",
    "            }\n",
    "        ],\n",
    "    }\n",
    "]\n",
    "\n",
    "config = {\"max_new_tokens\": 300, \"top_p\": 0.9, \"top_k\": 20}\n",
    "request = {\"messages\": message_llist, \"system\": system_list, \"inferenceConfig\": config}\n",
    "\n",
    "response = bedrock_runtime_client.invoke_model(\n",
    "    modelId=LITE_MODEL_ID, body=json.dumps(request)\n",
    ")\n",
    "print(response)\n",
    "\n",
    "request_id = response[\"ResponseMetadata\"][\"RequestId\"]\n",
    "print(request_id)\n",
    "\n",
    "body = json.loads(response[\"body\"].read())\n",
    "print(body)\n",
    "\n",
    "content_text = body[\"output\"][\"message\"][\"content\"][0][\"text\"]\n",
    "print(\"\\n\", content_text)"
   ]
  },
  {
   "cell_type": "markdown",
   "id": "7da2ed0e",
   "metadata": {},
   "source": [
    "#### Streaming API Call"
   ]
  },
  {
   "cell_type": "code",
   "execution_count": 14,
   "id": "c96b5546",
   "metadata": {},
   "outputs": [
    {
     "name": "stdout",
     "output_type": "stream",
     "text": [
      "Time to first token: 0:00:00.402748\n",
      "The sun had just begun to rise over the jagged peaks of the Himalayas, casting a golden hue on the rugged landscape of Ladakh. Maya stood at the edge of her hotel balcony, her breath visible in the crisp morning air. She had always dreamed of visiting this remote region, known for its stark beauty and spiritual aura.\n",
      "\n",
      "As she stepped out onto the narrow, winding roads, the first thing that struck her was the silence. The air was so thin and pure that even the sound of her footsteps seemed muffled. The landscape was a patchwork of arid mountains, shimmering lakes, and verdant valleys. Each turn revealed a new, breathtaking vista.\n",
      "\n",
      "Maya's journey began with a visit to the Magnetic Hill, a peculiar phenomenon where gravity seemed to defy logic, and vehicles rolled uphill. She laughed as she watched a local shepherd struggle to keep his yak from rolling back down the slope. \n",
      "\n",
      "Next, she ventured to the Shanti Stupa, a white dome-shaped monument that offered panoramic views of Leh. As she climbed the spiral staircase to the top, the wind whipped her scarf around her face, but the view was worth every gust. The city below looked like a miniature model, with its clay-roofed houses and snaking roads.\n",
      "\n",
      "Her itinerary included a visit to the ancient monasteries of Hemis and Thiksey. At Hemis, she witnessed the grand Hemis Festival, where monks dressed in colorful robes performed traditional masked dances. The air was filled with the sound of drums and chants, and Maya felt a deep sense of peace wash over her.\n",
      "\n",
      "Thiksey Monastery was quieter but no less impressive. She marveled at the intricate murals and the towering statue of Maitreya Buddha, which seemed to watch over the entire valley. The monks welcomed her with warm smiles and offered her a cup of butter tea, a staple of Ladakhi hospitality.\n",
      "\n",
      "One of the highlights of her trip was a hike to the Nubra Valley. The valley was a stark contrast to the rest of Ladakh, with its lush green fields and the meandering Shyok River. She visited the Diskit Monastery, where the largest standing statue of Buddha in the world greeted her. The monks shared stories of their daily lives, and Maya felt a deep connection to these serene, disciplined individuals.\n",
      "\n",
      "As her trip drew to a close, Maya found herself at Pangong Tso, the stunning lake that straddles the border between India and Tibet. The water was a deep, reflective blue, and the surrounding mountains mirrored perfectly in its surface. It was a moment of pure, unadulterated beauty that left her speechless.\n",
      "\n",
      "Maya returned to her hotel, her heart full and her spirit rejuvenated. Ladakh had shown her a world of quiet strength and timeless beauty, a place where the soul could find solace and peace. She knew she would carry the memories of this trip with her forever.\n",
      "Total token count:  327\n"
     ]
    }
   ],
   "source": [
    "from datetime import datetime as dt\n",
    "\n",
    "system_list = [\n",
    "    {\n",
    "        \"text\": \"Act as a writing assistant. When the user provides you with a topic, write a short story about that topic\"\n",
    "    }\n",
    "]\n",
    "\n",
    "message_llist = [{\"role\": \"user\", \"content\": [{\"text\": \"A trip to Ladakh.\"}]}]\n",
    "\n",
    "config = {\"max_new_tokens\": 1000, \"top_p\": 0.9, \"top_k\": 20}\n",
    "\n",
    "request = {\"messages\": message_llist, \"system\": system_list, \"inferenceConfig\": config}\n",
    "\n",
    "start_time = dt.now()\n",
    "\n",
    "response = bedrock_runtime_client.invoke_model_with_response_stream(\n",
    "    modelId=LITE_MODEL_ID, body=json.dumps(request)\n",
    ")\n",
    "\n",
    "chunk_count = 0\n",
    "time_to_first_token = None\n",
    "\n",
    "stream = response.get(\"body\")\n",
    "if stream:\n",
    "    for event in stream:\n",
    "        chunk = event.get(\"chunk\")\n",
    "        if chunk:\n",
    "            chunk_json = json.loads(chunk.get(\"bytes\").decode())\n",
    "            content_block_delta = chunk_json.get(\"contentBlockDelta\")\n",
    "            if content_block_delta:\n",
    "                if time_to_first_token is None:\n",
    "                    time_to_first_token = dt.now() - start_time\n",
    "                    print(f\"Time to first token: {time_to_first_token}\")\n",
    "                chunk_count += 1\n",
    "                current_time = dt.now().strftime(\"%d-%m-%Y %H:%M:%S:%f\")\n",
    "                print(content_block_delta.get(\"delta\").get(\"text\"), end=\"\")\n",
    "    print(\"\\nTotal token count: \", chunk_count)\n",
    "else:\n",
    "    print(\"No response stream received.\")"
   ]
  },
  {
   "cell_type": "markdown",
   "id": "c54d66d4",
   "metadata": {},
   "source": [
    "#### Image Understanding"
   ]
  },
  {
   "cell_type": "code",
   "execution_count": null,
   "id": "8f33bfca",
   "metadata": {},
   "outputs": [],
   "source": []
  },
  {
   "cell_type": "code",
   "execution_count": null,
   "id": "cbeb7d6d",
   "metadata": {},
   "outputs": [],
   "source": []
  },
  {
   "cell_type": "code",
   "execution_count": null,
   "id": "6ce28c80",
   "metadata": {},
   "outputs": [],
   "source": []
  },
  {
   "cell_type": "code",
   "execution_count": null,
   "id": "47bdb926",
   "metadata": {},
   "outputs": [],
   "source": []
  },
  {
   "cell_type": "code",
   "execution_count": null,
   "id": "27f755bd",
   "metadata": {},
   "outputs": [],
   "source": []
  },
  {
   "cell_type": "code",
   "execution_count": null,
   "id": "62fc55f2",
   "metadata": {},
   "outputs": [],
   "source": []
  },
  {
   "cell_type": "code",
   "execution_count": null,
   "id": "7cd2fd78",
   "metadata": {},
   "outputs": [],
   "source": []
  }
 ],
 "metadata": {
  "kernelspec": {
   "display_name": "enterprise-ai",
   "language": "python",
   "name": "python3"
  },
  "language_info": {
   "codemirror_mode": {
    "name": "ipython",
    "version": 3
   },
   "file_extension": ".py",
   "mimetype": "text/x-python",
   "name": "python",
   "nbconvert_exporter": "python",
   "pygments_lexer": "ipython3",
   "version": "3.12.11"
  }
 },
 "nbformat": 4,
 "nbformat_minor": 5
}
