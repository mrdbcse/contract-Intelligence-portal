{
 "cells": [
  {
   "cell_type": "markdown",
   "id": "9d3c3079",
   "metadata": {},
   "source": [
    "# Amazon Nova"
   ]
  },
  {
   "cell_type": "code",
   "execution_count": 15,
   "id": "cf19c473",
   "metadata": {},
   "outputs": [],
   "source": [
    "import json\n",
    "\n",
    "import boto3\n",
    "\n",
    "session = boto3.Session(profile_name=\"gen-ai-ops\", region_name=\"us-east-1\")\n",
    "bedrock_client = session.client(service_name=\"bedrock\")\n",
    "bedrock_runtime_client = session.client(service_name=\"bedrock-runtime\")"
   ]
  },
  {
   "cell_type": "code",
   "execution_count": 16,
   "id": "2304ecaa",
   "metadata": {},
   "outputs": [],
   "source": [
    "PRO_MODEL_ID = \"amazon.nova-pro-v1:0\"  # TEXT & VISION\n",
    "LITE_MODEL_ID = \"amazon.nova-lite-v1:0\"  # TEXT & VISION\n",
    "MICRO_MODEL_ID = \"amazon.nova-micro-v1:0\"  # TEXT"
   ]
  },
  {
   "cell_type": "markdown",
   "id": "c2e3da12",
   "metadata": {},
   "source": [
    "#### Synchronous API Call"
   ]
  },
  {
   "cell_type": "code",
   "execution_count": 17,
   "id": "502d68b6",
   "metadata": {},
   "outputs": [
    {
     "name": "stdout",
     "output_type": "stream",
     "text": [
      "{'ResponseMetadata': {'RequestId': '2939cda5-7430-43e2-923e-112b3ca886d4', 'HTTPStatusCode': 200, 'HTTPHeaders': {'date': 'Wed, 01 Oct 2025 16:49:55 GMT', 'content-type': 'application/json', 'content-length': '888', 'connection': 'keep-alive', 'x-amzn-requestid': '2939cda5-7430-43e2-923e-112b3ca886d4', 'x-amzn-bedrock-invocation-latency': '1024', 'x-amzn-bedrock-cache-write-input-token-count': '0', 'x-amzn-bedrock-cache-read-input-token-count': '0', 'x-amzn-bedrock-output-token-count': '149', 'x-amzn-bedrock-input-token-count': '26'}, 'RetryAttempts': 0}, 'contentType': 'application/json', 'body': <botocore.response.StreamingBody object at 0x000001BF352F21A0>}\n",
      "2939cda5-7430-43e2-923e-112b3ca886d4\n",
      "{'output': {'message': {'content': [{'text': \"YouTube est une excellente plateforme pour apprendre le codage et la technologie dans le domaine de l'informatique. De nombreux créateurs de contenu proposent des tutoriels détaillés, des cours complets et des explications sur divers sujets tels que le développement web, la programmation, l'intelligence artificielle, la cybersécurité, et bien plus encore. Les vidéos sont souvent accompagnées de ressources supplémentaires comme des liens vers des livres, des articles, et des projets pratiques pour consolider les connaissances acquises. De plus, la communauté active autour de ces contenus permet d'échanger des idées et de résoudre des problèmes ensemble.\"}], 'role': 'assistant'}}, 'stopReason': 'end_turn', 'usage': {'inputTokens': 26, 'outputTokens': 149, 'totalTokens': 175, 'cacheReadInputTokenCount': 0, 'cacheWriteInputTokenCount': 0}}\n",
      "\n",
      " YouTube est une excellente plateforme pour apprendre le codage et la technologie dans le domaine de l'informatique. De nombreux créateurs de contenu proposent des tutoriels détaillés, des cours complets et des explications sur divers sujets tels que le développement web, la programmation, l'intelligence artificielle, la cybersécurité, et bien plus encore. Les vidéos sont souvent accompagnées de ressources supplémentaires comme des liens vers des livres, des articles, et des projets pratiques pour consolider les connaissances acquises. De plus, la communauté active autour de ces contenus permet d'échanger des idées et de résoudre des problèmes ensemble.\n"
     ]
    }
   ],
   "source": [
    "system_list = [{\"text\": \"You should respond all the messages in French.\"}]\n",
    "message_llist = [\n",
    "    {\n",
    "        \"role\": \"user\",\n",
    "        \"content\": [\n",
    "            {\n",
    "                \"text\": \"Youtube is a great platform to learn coding and technology in the field of computer science.\"\n",
    "            }\n",
    "        ],\n",
    "    }\n",
    "]\n",
    "\n",
    "config = {\"max_new_tokens\": 300, \"top_p\": 0.9, \"top_k\": 20}\n",
    "request = {\"messages\": message_llist, \"system\": system_list, \"inferenceConfig\": config}\n",
    "\n",
    "response = bedrock_runtime_client.invoke_model(\n",
    "    modelId=LITE_MODEL_ID, body=json.dumps(request)\n",
    ")\n",
    "print(response)\n",
    "\n",
    "request_id = response[\"ResponseMetadata\"][\"RequestId\"]\n",
    "print(request_id)\n",
    "\n",
    "body = json.loads(response[\"body\"].read())\n",
    "print(body)\n",
    "\n",
    "content_text = body[\"output\"][\"message\"][\"content\"][0][\"text\"]\n",
    "print(\"\\n\", content_text)"
   ]
  },
  {
   "cell_type": "markdown",
   "id": "7da2ed0e",
   "metadata": {},
   "source": [
    "#### Streaming API Call"
   ]
  },
  {
   "cell_type": "code",
   "execution_count": 18,
   "id": "c96b5546",
   "metadata": {},
   "outputs": [
    {
     "name": "stdout",
     "output_type": "stream",
     "text": [
      "Time to first token: 0:00:00.449056\n",
      "The sun had just begun to rise over the jagged peaks of the Himalayas, casting a golden hue on the rugged landscape of Ladakh. Maya had always dreamt of visiting this remote and mystical region, and today was the day her dream was finally coming true.\n",
      "\n",
      "As she stepped out of the small, dusty jeep, the crisp, thin air filled her lungs, invigorating her spirit. The landscape was a breathtaking tapestry of rocky mountains, shimmering lakes, and verdant meadows. The air was tinged with the scent of pine and the distant sound of a river echoed through the valley.\n",
      "\n",
      "Maya's first stop was the picturesque village of Lamayuru. The monastery, perched atop a hill, stood as a silent sentinel overlooking the village. Inside, the walls were adorned with intricate murals depicting scenes from Buddhist lore. Monks in maroon robes moved with serene grace, their chants blending harmoniously with the gentle breeze.\n",
      "\n",
      "Next, she ventured to the stunning Pangong Tso Lake, a vast, high-altitude lake that straddled the border between India and Tibet. The water was a mesmerizing mix of deep blues and greens, reflecting the surrounding mountains like a mirror. Maya spent hours walking along the shoreline, the rhythmic lapping of the water against the rocks a soothing balm to her soul.\n",
      "\n",
      "One evening, she found herself at a campfire with fellow travelers. The sky was a canvas of stars, more brilliant and numerous than she had ever seen. They shared stories, laughter, and warmth, the firelight casting flickering shadows on their faces. It was in these moments that Maya felt truly connected to the land and its people.\n",
      "\n",
      "As her trip drew to a close, Maya sat atop a hill, watching the sun set behind the mountains. The sky transformed into a canvas of oranges, pinks, and purples, a daily masterpiece painted just for her. She realized that the journey to Ladakh was not just about the places she visited, but the memories she created, the connections she made, and the sense of peace that settled in her heart.\n",
      "\n",
      "With a heart full of gratitude and a spirit renewed, Maya knew that this trip to Ladakh would forever be etched in her memory, a cherished chapter in her life's story.\n",
      "Total token count:  228\n"
     ]
    }
   ],
   "source": [
    "from datetime import datetime as dt\n",
    "\n",
    "system_list = [\n",
    "    {\n",
    "        \"text\": \"Act as a writing assistant. When the user provides you with a topic, write a short story about that topic\"\n",
    "    }\n",
    "]\n",
    "\n",
    "message_llist = [{\"role\": \"user\", \"content\": [{\"text\": \"A trip to Ladakh.\"}]}]\n",
    "\n",
    "config = {\"max_new_tokens\": 1000, \"top_p\": 0.9, \"top_k\": 20}\n",
    "\n",
    "request = {\"messages\": message_llist, \"system\": system_list, \"inferenceConfig\": config}\n",
    "\n",
    "start_time = dt.now()\n",
    "\n",
    "response = bedrock_runtime_client.invoke_model_with_response_stream(\n",
    "    modelId=LITE_MODEL_ID, body=json.dumps(request)\n",
    ")\n",
    "\n",
    "chunk_count = 0\n",
    "time_to_first_token = None\n",
    "\n",
    "stream = response.get(\"body\")\n",
    "if stream:\n",
    "    for event in stream:\n",
    "        chunk = event.get(\"chunk\")\n",
    "        if chunk:\n",
    "            chunk_json = json.loads(chunk.get(\"bytes\").decode())\n",
    "            content_block_delta = chunk_json.get(\"contentBlockDelta\")\n",
    "            if content_block_delta:\n",
    "                if time_to_first_token is None:\n",
    "                    time_to_first_token = dt.now() - start_time\n",
    "                    print(f\"Time to first token: {time_to_first_token}\")\n",
    "                chunk_count += 1\n",
    "                current_time = dt.now().strftime(\"%d-%m-%Y %H:%M:%S:%f\")\n",
    "                print(content_block_delta.get(\"delta\").get(\"text\"), end=\"\")\n",
    "    print(\"\\nTotal token count: \", chunk_count)\n",
    "else:\n",
    "    print(\"No response stream received.\")"
   ]
  },
  {
   "cell_type": "markdown",
   "id": "c54d66d4",
   "metadata": {},
   "source": [
    "#### Image Understanding"
   ]
  },
  {
   "cell_type": "code",
   "execution_count": 28,
   "id": "8f33bfca",
   "metadata": {},
   "outputs": [
    {
     "name": "stdout",
     "output_type": "stream",
     "text": [
      "1. **\"Winter's Embrace: The Amtrak Journey\"**\n",
      "2. **\"Snowbound Station: A Winter's Tale\"**\n",
      "3. **\"Amtrak's Path Through the Snow\"**\n"
     ]
    }
   ],
   "source": [
    "import base64\n",
    "\n",
    "\n",
    "with open(\"../images/train_snow.jpg\", \"rb\") as f:\n",
    "    snow_base64_string = base64.b64encode(f.read()).decode(\"utf-8\")\n",
    "\n",
    "system_list = [\n",
    "    {\n",
    "        \"text\": \"You are an expert artist. When the user provides you with an image, provide three potential art titles.\"\n",
    "    }\n",
    "]\n",
    "\n",
    "message_llist = [\n",
    "    {\n",
    "        \"role\": \"user\",\n",
    "        \"content\": [\n",
    "            {\"image\": {\"format\": \"jpg\", \"source\": {\"bytes\": snow_base64_string}}},\n",
    "            {\"text\": \"Provide art titles for this image.\"},\n",
    "        ],\n",
    "    }\n",
    "]\n",
    "\n",
    "config = {\"max_new_tokens\": 300, \"top_k\": 20, \"top_p\": 0.1}\n",
    "\n",
    "request = {\"messages\": message_llist, \"system\": system_list, \"inferenceConfig\": config}\n",
    "\n",
    "response = bedrock_runtime_client.invoke_model(\n",
    "    modelId=LITE_MODEL_ID, body=json.dumps(request)\n",
    ")\n",
    "response = json.loads(response[\"body\"].read())\n",
    "\n",
    "content_text = response[\"output\"][\"message\"][\"content\"][0][\"text\"]\n",
    "print(content_text)"
   ]
  },
  {
   "cell_type": "code",
   "execution_count": 32,
   "id": "cbeb7d6d",
   "metadata": {},
   "outputs": [
    {
     "name": "stdout",
     "output_type": "stream",
     "text": [
      "Both images depict landscapes, but they showcase different environments and settings. The first image features a snowy landscape with a train station and a train on the tracks, while the second image presents a desert landscape with a sunset and a unique rock formation. Despite the differences in scenery, both images share the common theme of capturing the beauty and diversity of nature.\n"
     ]
    }
   ],
   "source": [
    "with open(\"../images/desert.jpg\", \"rb\") as f:\n",
    "    desert_base64_string = base64.b64encode(f.read()).decode(\"utf-8\")\n",
    "\n",
    "message_llist = [\n",
    "    {\n",
    "        \"role\": \"user\",\n",
    "        \"content\": [\n",
    "            {\"image\": {\"format\": \"jpg\", \"source\": {\"bytes\": snow_base64_string}}},\n",
    "            {\"image\": {\"format\": \"jpg\", \"source\": {\"bytes\": desert_base64_string}}},\n",
    "            {\"text\": \"What do these two images have in common?\"},\n",
    "        ],\n",
    "    }\n",
    "]\n",
    "\n",
    "config = {\"max_new_tokens\": 300, \"top_p\": 0.1, \"top_k\": 20}\n",
    "request = {\"messages\": message_llist, \"inferenceConfig\": config}\n",
    "\n",
    "response = bedrock_runtime_client.invoke_model(\n",
    "    modelId=LITE_MODEL_ID, body=json.dumps(request)\n",
    ")\n",
    "\n",
    "response = json.loads(response[\"body\"].read())\n",
    "content_text = response[\"output\"][\"message\"][\"content\"][0][\"text\"]\n",
    "print(content_text)"
   ]
  },
  {
   "cell_type": "markdown",
   "id": "0a869955",
   "metadata": {},
   "source": [
    "#### Video Understanding"
   ]
  },
  {
   "cell_type": "code",
   "execution_count": null,
   "id": "6ce28c80",
   "metadata": {},
   "outputs": [],
   "source": []
  },
  {
   "cell_type": "code",
   "execution_count": null,
   "id": "47bdb926",
   "metadata": {},
   "outputs": [],
   "source": []
  },
  {
   "cell_type": "code",
   "execution_count": null,
   "id": "27f755bd",
   "metadata": {},
   "outputs": [],
   "source": []
  },
  {
   "cell_type": "code",
   "execution_count": null,
   "id": "62fc55f2",
   "metadata": {},
   "outputs": [],
   "source": []
  },
  {
   "cell_type": "code",
   "execution_count": null,
   "id": "7cd2fd78",
   "metadata": {},
   "outputs": [],
   "source": []
  }
 ],
 "metadata": {
  "kernelspec": {
   "display_name": "enterprise-ai",
   "language": "python",
   "name": "python3"
  },
  "language_info": {
   "codemirror_mode": {
    "name": "ipython",
    "version": 3
   },
   "file_extension": ".py",
   "mimetype": "text/x-python",
   "name": "python",
   "nbconvert_exporter": "python",
   "pygments_lexer": "ipython3",
   "version": "3.12.11"
  }
 },
 "nbformat": 4,
 "nbformat_minor": 5
}
