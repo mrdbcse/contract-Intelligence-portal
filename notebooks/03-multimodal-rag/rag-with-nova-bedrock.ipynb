{
 "cells": [
  {
   "cell_type": "markdown",
   "id": "c6c09037",
   "metadata": {},
   "source": [
    "# Multimodal RAG System\n",
    "- *LangChain* to build a multimodal RAG system\n",
    "- *FAISS* for similarity search\n",
    "- *Amazon Nova* for answer synthesis\n",
    "- *Amazon Titan* Multimodal Embeddings for image embeddings\n",
    "- *Amazon Bedrock* for accessing powerful AI models like Nova\n",
    "- *pymupdf* to parse images, text and tables from PDF documents\n",
    "- *boto3* for interacting with Amazon bedrock (SDK)"
   ]
  },
  {
   "cell_type": "code",
   "execution_count": 1,
   "id": "54674a14",
   "metadata": {},
   "outputs": [],
   "source": [
    "import logging\n",
    "import warnings\n",
    "\n",
    "logger = logging.getLogger(__name__)\n",
    "logger.setLevel(logging.ERROR)\n",
    "\n",
    "warnings.filterwarnings(\"ignore\")"
   ]
  },
  {
   "cell_type": "markdown",
   "id": "f379d042",
   "metadata": {},
   "source": [
    "#### Data Loading"
   ]
  },
  {
   "cell_type": "code",
   "execution_count": 9,
   "id": "aa2d6419",
   "metadata": {},
   "outputs": [
    {
     "name": "stdout",
     "output_type": "stream",
     "text": [
      "File downloaded successfully: data\\attention_is_all_you_need.pdf\n"
     ]
    }
   ],
   "source": [
    "import os\n",
    "import requests\n",
    "\n",
    "url = \"https://arxiv.org/pdf/1706.03762.pdf\"\n",
    "folder = \"data\"\n",
    "\n",
    "filename = \"attention_is_all_you_need.pdf\"\n",
    "filepath = os.path.join(folder, filename)\n",
    "\n",
    "os.makedirs(folder, exist_ok=True)\n",
    "\n",
    "response = requests.get(url=url)\n",
    "\n",
    "if response.status_code == 200:\n",
    "    try:\n",
    "        with open(filepath, \"wb\") as f:\n",
    "            f.write(response.content)\n",
    "            print(f\"File downloaded successfully: {filepath}\")\n",
    "    except Exception as e:\n",
    "        print(f\"Exception Occured: {e}\")\n",
    "else:\n",
    "    print(f\"Failed to download the file. Status Code: {response.status_code}\")"
   ]
  },
  {
   "cell_type": "code",
   "execution_count": 14,
   "id": "bec94b27",
   "metadata": {},
   "outputs": [
    {
     "name": "stdout",
     "output_type": "stream",
     "text": [
      "[{'extraction_method': 'stream', 'top': 112.0, 'left': 117.0, 'width': 377.0, 'height': 76.0, 'right': 494.0, 'bottom': 188.0, 'data': [[{'top': 119.74, 'left': 124.55, 'width': 46.63533020019531, 'height': 4.449999809265137, 'text': 'Layer Type'}, {'top': 119.74, 'left': 239.7, 'width': 89.09535217285156, 'height': 4.449999809265137, 'text': 'Complexity per Layer'}, {'top': 119.74, 'left': 340.33, 'width': 43.305328369140625, 'height': 4.449999809265137, 'text': 'Sequential'}, {'top': 119.74, 'left': 395.17, 'width': 92.27999114990234, 'height': 4.449999809265137, 'text': 'Maximum Path Length'}], [{'top': 0.0, 'left': 0.0, 'width': 0.0, 'height': 0.0, 'text': ''}, {'top': 0.0, 'left': 0.0, 'width': 0.0, 'height': 0.0, 'text': ''}, {'top': 130.65, 'left': 339.5, 'width': 43.71999740600586, 'height': 4.449999809265137, 'text': 'Operations'}, {'top': 0.0, 'left': 0.0, 'width': 0.0, 'height': 0.0, 'text': ''}], [{'top': 143.29, 'left': 124.55, 'width': 58.86798095703125, 'height': 4.449999809265137, 'text': 'Self-Attention'}, {'top': 141.03, 'left': 264.4, 'width': 40.730010986328125, 'height': 6.71000862121582, 'text': 'O(n2 · d)'}, {'top': 143.32, 'left': 351.05, 'width': 22.8900146484375, 'height': 4.420000076293945, 'text': 'O(1)'}, {'top': 143.32, 'left': 431.01, 'width': 20.599979400634766, 'height': 4.420000076293945, 'text': 'O(1)'}], [{'top': 154.67, 'left': 124.55, 'width': 41.147979736328125, 'height': 4.449999809265137, 'text': 'Recurrent'}, {'top': 152.41, 'left': 264.4, 'width': 40.730010986328125, 'height': 6.709994316101074, 'text': 'O(n · d2)'}, {'top': 154.7, 'left': 350.55, 'width': 23.8900146484375, 'height': 4.420000076293945, 'text': 'O(n)'}, {'top': 154.7, 'left': 430.51, 'width': 21.599979400634766, 'height': 4.420000076293945, 'text': 'O(n)'}], [{'top': 166.05, 'left': 124.55, 'width': 58.28797912597656, 'height': 4.449999809265137, 'text': 'Convolutional'}, {'top': 163.79, 'left': 258.05, 'width': 53.420013427734375, 'height': 6.710009574890137, 'text': 'O(k · n · d2)'}, {'top': 166.08, 'left': 351.05, 'width': 22.8900146484375, 'height': 4.420000076293945, 'text': 'O(1)'}, {'top': 166.08, 'left': 417.81, 'width': 47.000003814697266, 'height': 5.919991970062256, 'text': 'O(logk(n))'}], [{'top': 176.96, 'left': 124.55, 'width': 105.06797790527344, 'height': 4.449999809265137, 'text': 'Self-Attention (restricted)'}, {'top': 176.71, 'left': 260.65, 'width': 48.230010986328125, 'height': 4.699999809265137, 'text': 'O(r · n · d)'}, {'top': 176.99, 'left': 351.05, 'width': 22.8900146484375, 'height': 4.420000076293945, 'text': 'O(1)'}, {'top': 176.99, 'left': 425.63, 'width': 31.359989166259766, 'height': 4.420000076293945, 'text': 'O(n/r)'}]]}, {'extraction_method': 'stream', 'top': 401.0, 'left': 106.0, 'width': 400.0, 'height': 57.0, 'right': 506.0, 'bottom': 458.0, 'data': [[{'top': 402.44, 'left': 108.0, 'width': 396.3399963378906, 'height': 4.449999809265137, 'text': 'chose this function because we hypothesized it would allow the model to easily learn to attend by'}], [{'top': 413.35, 'left': 108.0, 'width': 396.0, 'height': 5.950006008148193, 'text': 'relative positions, since for any fixed offset k, PEpos+k can be represented as a linear function of'}], [{'top': 424.26, 'left': 108.0, 'width': 29.919992446899414, 'height': 5.949975490570068, 'text': 'PEpos.'}], [{'top': 440.65, 'left': 107.53, 'width': 396.4700012207031, 'height': 4.449999809265137, 'text': 'We also experimented with using learned positional embeddings [9] instead, and found that the two'}], [{'top': 451.56, 'left': 107.75, 'width': 396.25, 'height': 4.449999809265137, 'text': 'versions produced nearly identical results (see Table 3 row (E)). We chose the sinusoidal version'}]]}]\n"
     ]
    }
   ],
   "source": [
    "import tabula\n",
    "\n",
    "tables = tabula.read_pdf(\n",
    "    input_path=filepath, output_format=\"json\", multiple_tables=True, pages=6\n",
    ")\n",
    "\n",
    "print(tables)"
   ]
  },
  {
   "cell_type": "code",
   "execution_count": null,
   "id": "a2452159",
   "metadata": {},
   "outputs": [],
   "source": []
  },
  {
   "cell_type": "code",
   "execution_count": null,
   "id": "f7fd22d9",
   "metadata": {},
   "outputs": [],
   "source": []
  }
 ],
 "metadata": {
  "kernelspec": {
   "display_name": "enterprise-ai",
   "language": "python",
   "name": "python3"
  },
  "language_info": {
   "codemirror_mode": {
    "name": "ipython",
    "version": 3
   },
   "file_extension": ".py",
   "mimetype": "text/x-python",
   "name": "python",
   "nbconvert_exporter": "python",
   "pygments_lexer": "ipython3",
   "version": "3.12.11"
  }
 },
 "nbformat": 4,
 "nbformat_minor": 5
}
